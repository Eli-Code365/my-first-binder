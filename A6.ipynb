{
  "nbformat": 4,
  "nbformat_minor": 0,
  "metadata": {
    "colab": {
      "name": "A6.ipynb",
      "provenance": [],
      "collapsed_sections": []
    },
    "kernelspec": {
      "name": "python3",
      "display_name": "Python 3"
    },
    "language_info": {
      "name": "python"
    }
  },
  "cells": [
    {
      "cell_type": "markdown",
      "metadata": {
        "id": "ETaORXyX2ygg"
      },
      "source": [
        "# **Eli Cohen, Tony Rojas, Robert Johnson**\n",
        "**Class: Intro To Python**\n",
        "\n",
        "**Professor: Oge Marques**\n",
        "\n",
        "**Assignment: A6**\n",
        "\n",
        "**Description: In this assignment you will create a simple program for using** **dictionaries to store and process the contents of a very popular dataset, the** **Iris flower dataset ***. "
      ]
    },
    {
      "cell_type": "markdown",
      "metadata": {
        "id": "iIoaNkaR2yeI"
      },
      "source": [
        "# **Project Title: EDA for the Iris dataset**\n",
        "This project purpose is to use and read from a file and manipulate the data in order to calculate which data points fall within a certain range and the second part of the project is graph some data points from a file.\n",
        "\n",
        "**Notable Comments:**\n",
        "\n",
        "My thoughts, process, and any notable things I have realized in the Python language:\n",
        "\n",
        "While Doing this assignment We had a difficult time figuring out how to only use the modules that were demanded of us since most references used data science modules.\n",
        "\n",
        "**Python Notes:**\n",
        "\n",
        "We would like to learn how to better utilize the modules and have most of the code more simplified.\n",
        "\n",
        "**Things I added:**\n",
        "\n",
        "Nothing of Note\n",
        "\n",
        "**Usage**\n",
        "\n",
        "What you'll need!\n",
        "\n",
        "    Iris Dataset\n",
        " \n",
        "    install matplotlib\n",
        "\n",
        "    install seaborn\n",
        "\n",
        "    install any other module that helps you manage data"
      ]
    },
    {
      "cell_type": "markdown",
      "metadata": {
        "id": "kpRnqiLM2yOB"
      },
      "source": [
        "# **Assignment 6 Report**\n",
        "\n",
        "**Roles:** Throughout this assignment we all played a major role and rotated our roles around so each of us could interact with the code as well as provide fresh eyes and solutions to possible complications in which there were many.\n",
        "\n",
        "**Development Process:**\n",
        "\n",
        "For this assignment we began to read through the instructions and began to form a plan on how to break down the development process. We noticed that this assignment was using similar data and code from the previous 5th and 4th assignments; so we decided to use the code from assignment 5 as a starting point since assignment 6 was pretty much a continuation. The beginning stages of this task were not very difficult as we already had some experience with using csv files and the csv reader. Due to the difficulty of this assignment and constantly getting stuck on issues after the “Summary Statistics” section, we all kept working pretty closely and helped with coding , documenting and design. By doing this we were able to do better research and save much more time.\n",
        "\n",
        "**Summary Statistics:**\n",
        "\n",
        "For this part of the assignment we split some of the workload since the task required us to do some research and find certain formulas. While certain parts of this section of the assignment were relatively simple such as writing the code for the mean and max , a certain part took us hours of research to find. We researched through the book and the web for hours in order to find a way to code the “standard deviation” for the dataset. Eventually we managed to find a way to write the formula into code without the help of a data science library.\n"
      ]
    },
    {
      "cell_type": "markdown",
      "metadata": {
        "id": "6k7YomtZ8dR1"
      },
      "source": [
        "**Necessary Imports**"
      ]
    },
    {
      "cell_type": "code",
      "metadata": {
        "id": "os9bFnIQ6yM9"
      },
      "source": [
        "import csv\n",
        "import matplotlib.pyplot as pp\n",
        "import seaborn as bb\n",
        "from seaborn.palettes import color_palette"
      ],
      "execution_count": null,
      "outputs": []
    },
    {
      "cell_type": "markdown",
      "metadata": {
        "id": "eiLODR1z8h2g"
      },
      "source": [
        "**Description of what the program does**"
      ]
    },
    {
      "cell_type": "code",
      "metadata": {
        "id": "KhdsgIe76yCW"
      },
      "source": [
        "print(\"\\n\\n\\n\\n\\n\\n\")\n",
        "print(\"This program reads and manipulates data_reader from the iris.csv file and 'pretty' prints the results.\")"
      ],
      "execution_count": null,
      "outputs": []
    },
    {
      "cell_type": "markdown",
      "metadata": {
        "id": "O4CQWzzi-mM7"
      },
      "source": [
        "**Code for Decision Tree (part 6)**"
      ]
    },
    {
      "cell_type": "code",
      "metadata": {
        "id": "5vZdw0zy7UGj"
      },
      "source": [
        "def flower_type(a, b):\n",
        "    petal_length = a\n",
        "    petal_width = b\n",
        "    print(\"\\n\\n\\n\\n\\n\\n\")\n",
        "\n",
        "    if petal_length < 1:\n",
        "        print(\"No Such flower Exists\")\n",
        "    elif (petal_length >= 1 and petal_length <= 1.9) and (petal_width >= .1 and petal_width <= .6):\n",
        "        print(\"flower is setosa\")\n",
        "    elif petal_length >= 3 and petal_length <= 6.9:\n",
        "        print(\"Either versicolor or virginicia\")\n",
        "        if (petal_length >= 3 and petal_length <= 5.1) and (petal_width >= 1 and petal_width <= 1.8):\n",
        "            print(\"Flower is veriscolor: \")\n",
        "        if (petal_length >= 5.1 and petal_length <= 6.9) and (petal_width >= 1.8 and petal_width <= 2.5):\n",
        "            print(\"is virgincia:\")\n"
      ],
      "execution_count": null,
      "outputs": []
    },
    {
      "cell_type": "code",
      "metadata": {
        "id": "WIQGRJ547UD9"
      },
      "source": [
        "def len_columns(E):\n",
        "    num = len(E)\n",
        "    return num"
      ],
      "execution_count": null,
      "outputs": []
    },
    {
      "cell_type": "markdown",
      "metadata": {
        "id": "Nqj7Xapj8nyg"
      },
      "source": [
        "**Code for Average function**"
      ]
    },
    {
      "cell_type": "code",
      "metadata": {
        "id": "7kqRIw0h7UBS"
      },
      "source": [
        "def avg(A):\n",
        "    return sum(A) / len(A)"
      ],
      "execution_count": null,
      "outputs": []
    },
    {
      "cell_type": "markdown",
      "metadata": {
        "id": "FzZy3gFS8tSI"
      },
      "source": [
        " **Minimum Function**"
      ]
    },
    {
      "cell_type": "code",
      "metadata": {
        "id": "qvOF9G9h6x0_"
      },
      "source": [
        "def minimum(B):\n",
        "    minimum_value = min(B)\n",
        "    return minimum_value"
      ],
      "execution_count": null,
      "outputs": []
    },
    {
      "cell_type": "markdown",
      "metadata": {
        "id": "C8Z2Rwb282XK"
      },
      "source": [
        "**Max Function**"
      ]
    },
    {
      "cell_type": "code",
      "metadata": {
        "id": "nqgKGk917iqL"
      },
      "source": [
        "def maximun(C):\n",
        "    maximum_value = max(C)\n",
        "    return maximum_value"
      ],
      "execution_count": null,
      "outputs": []
    },
    {
      "cell_type": "markdown",
      "metadata": {
        "id": "bmGHGg4s85yq"
      },
      "source": [
        "**Standard Deviation**"
      ]
    },
    {
      "cell_type": "code",
      "metadata": {
        "id": "hGc_6o8u7il7"
      },
      "source": [
        "def standard_deviation(D):\n",
        "    sum_atr = 0\n",
        "    for i in range(len(D)):\n",
        "        sum_atr += D[i]\n",
        "    mean_atr = sum_atr/len(D)\n",
        "    # print(mean_p_w)\n",
        "    sum_sqrd_std = 0\n",
        "    for i in range(len(D)):\n",
        "        sum_sqrd_std += (D[i] - mean_atr)**2\n",
        "    std_val = ((sum_sqrd_std)/len(petal_width_Col))**0.5\n",
        "    return std_val"
      ],
      "execution_count": null,
      "outputs": []
    },
    {
      "cell_type": "markdown",
      "metadata": {
        "id": "MALuHy5t8_Bj"
      },
      "source": [
        "**Part of the \"Pretty\" results**"
      ]
    },
    {
      "cell_type": "code",
      "metadata": {
        "id": "36Qs8B8L7ijk"
      },
      "source": [
        "def pretty_print_equal():\n",
        "    print(\"=\" * 99)"
      ],
      "execution_count": null,
      "outputs": []
    },
    {
      "cell_type": "markdown",
      "metadata": {
        "id": "VmoYEe2l9MRz"
      },
      "source": [
        "**Part of the \"Pretty\" results**"
      ]
    },
    {
      "cell_type": "code",
      "metadata": {
        "id": "1FTy9fOt7ihL"
      },
      "source": [
        "def pretty_print_dash():\n",
        "    print(\"-\" * 99)"
      ],
      "execution_count": null,
      "outputs": []
    },
    {
      "cell_type": "markdown",
      "metadata": {
        "id": "ucKLVdDF9gHV"
      },
      "source": [
        "**Creates Scatter Plot Graph for Sepal width/length**"
      ]
    },
    {
      "cell_type": "code",
      "metadata": {
        "id": "eBdLCH5s7utU"
      },
      "source": [
        "def sepal_width_vs_sepal_length(sepal_L_setosa, sepal_W_setosa, sepal_L_versi, sepal_W_versi, sepal_L_virgin, sepal_W_virgin):\n",
        "    x = sepal_L_setosa\n",
        "    y = sepal_W_setosa\n",
        "    x1 = sepal_L_versi\n",
        "    y1 = sepal_W_versi\n",
        "    x2 = sepal_L_virgin\n",
        "    y2 = sepal_W_virgin\n",
        "    pp.scatter(x, y, color=\"red\", label=\"setosa\")\n",
        "    pp.scatter(x1, y1, color=\"blue\", label=\"versi\")\n",
        "    pp.scatter(x2, y2, color=\"green\", label=\"virgin\")\n",
        "    pp.grid()\n",
        "    pp.legend()\n",
        "    pp.xlabel(\"sepal Length\")\n",
        "    pp.ylabel(\"sepal Width\")\n",
        "    pp.title(\"sepal Width vs. sepal Length\")\n",
        "    pp.show()"
      ],
      "execution_count": null,
      "outputs": []
    },
    {
      "cell_type": "markdown",
      "metadata": {
        "id": "re4TXrzS9stw"
      },
      "source": [
        "**Creates Scatter Plot Graph for Petal width/length**"
      ]
    },
    {
      "cell_type": "code",
      "metadata": {
        "id": "nf2QioVN7uns"
      },
      "source": [
        "def petal_width_vs_petal_length(petal_L_setosa, petal_W_setosa, petal_L_versi, petal_W_versi, petal_L_virgin, petal_W_virgin):\n",
        "    x3 = petal_L_setosa\n",
        "    y3 = petal_W_setosa\n",
        "    x4 = petal_L_versi\n",
        "    y4 = petal_W_versi\n",
        "    x5 = petal_L_virgin\n",
        "    y5 = petal_W_virgin\n",
        "    pp.scatter(x3, y3, color=\"red\", label=\"setosa\")\n",
        "    pp.scatter(x4, y4, color=\"blue\", label=\"versi\")\n",
        "    pp.scatter(x5, y5, color=\"green\", label=\"virgin\")\n",
        "    pp.grid()\n",
        "    pp.legend()\n",
        "    pp.xlabel(\"sepal Length\")\n",
        "    pp.ylabel(\"sepal Width\")\n",
        "    pp.title(\"sepal Width vs. sepal Length\")\n",
        "    pp.show()"
      ],
      "execution_count": null,
      "outputs": []
    },
    {
      "cell_type": "code",
      "metadata": {
        "colab": {
          "base_uri": "https://localhost:8080/",
          "height": 1000
        },
        "id": "dJUXiL6O7ulV",
        "outputId": "52bac539-f11e-4833-e290-22f55a761771"
      },
      "source": [
        "\n",
        "is_running = True\n",
        "#makes sure that program always runs \n",
        "while is_running:\n",
        "\n",
        "    data = []\n",
        "#  opens iris file\n",
        "    with open('iris.csv') as iris_file:\n",
        "        container = csv.reader(iris_file)\n",
        "        header = next(container)\n",
        "        for row in container:\n",
        "            sepal_length = float(row[0])\n",
        "            sepal_width = float(row[1])\n",
        "            petal_length = float(row[2])\n",
        "            petal_width = float(row[3])\n",
        "            species = str(row[4])\n",
        "            data.append(\n",
        "                tuple([species, petal_width, petal_length, sepal_width, sepal_length]))\n",
        "\n",
        "    species_Col = [a[0] for a in data]\n",
        "    petal_width_Col = [b[1] for b in data]\n",
        "    petal_length_Col = [c[2] for c in data]\n",
        "    sepal_width_Col = [d[3] for d in data]\n",
        "    sepal_length_Col = [e[4] for e in data]\n",
        "\n",
        "    petal_W_setosa = []\n",
        "    petal_W_versi = []\n",
        "    petal_W_virgin = []\n",
        "    petal_L_setosa = []\n",
        "    petal_L_versi = []\n",
        "    petal_L_virgin = []\n",
        "    sepal_W_setosa = []\n",
        "    sepal_W_versi = []\n",
        "    sepal_W_virgin = []\n",
        "    sepal_L_setosa = []\n",
        "    sepal_L_versi = []\n",
        "    sepal_L_virgin = []\n",
        "\n",
        "# Setosa chart\n",
        "    print(\"Setosa Chart\")\n",
        "    for i in range(len(data)):\n",
        "        if species_Col[i] == 'setosa':\n",
        "\n",
        "            petal_W_setosa.append(petal_width_Col[i])\n",
        "            petal_L_setosa.append(petal_length_Col[i])\n",
        "            sepal_W_setosa.append(sepal_width_Col[i])\n",
        "            sepal_L_setosa.append(sepal_length_Col[i])\n",
        "\n",
        "    average_petal_length_S = avg(petal_L_setosa)\n",
        "    average_petal_width_S = avg(petal_W_setosa)\n",
        "    average_sepal_length_S = avg(sepal_L_setosa)\n",
        "    average_sepal_width_S = avg(sepal_W_setosa)\n",
        "\n",
        "    average_petal_length_min_S = min(petal_L_setosa)\n",
        "    average_petal_width_min_S = min(petal_W_setosa)\n",
        "    average_sepal_length_min_S = min(sepal_L_setosa)\n",
        "    average_sepal_width_min_S = min(sepal_W_setosa)\n",
        "\n",
        "    average_petal_length_max_S = max(petal_L_setosa)\n",
        "    average_petal_width_max_S = max(petal_W_setosa)\n",
        "    average_sepal_length_max_S = max(sepal_L_setosa)\n",
        "    average_sepal_width_max_S = max(sepal_W_setosa)\n",
        "\n",
        "    sepal_length_std_S = standard_deviation(sepal_L_setosa)\n",
        "    sepal_width_std_S = standard_deviation(sepal_W_setosa)\n",
        "    petal_length_std_S = standard_deviation(petal_L_setosa)\n",
        "    petal_width_std_S = standard_deviation(petal_W_setosa)\n",
        "\n",
        "    average_iris_dictionary_S = [\n",
        "        ['mean', average_sepal_length_S, average_sepal_width_S,\n",
        "         average_petal_length_S, average_petal_width_S],\n",
        "        ['std', sepal_length_std_S, sepal_width_std_S,\n",
        "         petal_length_std_S, petal_width_std_S],\n",
        "        ['min', average_sepal_length_min_S, average_sepal_width_min_S,\n",
        "         average_petal_length_min_S, average_petal_width_min_S],\n",
        "        ['max', average_sepal_length_max_S, average_petal_width_max_S, average_petal_length_max_S, average_petal_width_max_S]]\n",
        "\n",
        "    spaces = ' '*3\n",
        "    header = f\"{'Attributes(cm):':12s}{spaces}{'Sepal Length':12s}{spaces}{'Sepal Width':9s}{spaces}{'Petal Length':12s}{spaces}{'Petal Width':9s}\"\n",
        "   \n",
        "    pretty_print_equal()\n",
        "    print(header)\n",
        "    pretty_print_dash()\n",
        "    print(\"Analytics:\")\n",
        "\n",
        "    for i in range(len(average_iris_dictionary_S)):\n",
        "        attributes_dictionary_S = f\"{average_iris_dictionary_S[i]   [0]:16s}{spaces}{average_iris_dictionary_S[i][1]:^12.2f}   {spaces}{average_iris_dictionary_S[i][2]:^11.2f}{spaces}   {average_iris_dictionary_S[i][3]:^12.2f}{spaces}   {average_iris_dictionary_S[i][4]:^11.2f}\"\n",
        "        print(attributes_dictionary_S)\n",
        "\n",
        "# Versicolor chart\n",
        "    print(\"Versicolor Chart\")\n",
        "    for i in range(len(data)):\n",
        "        if species_Col[i] == 'versicolor':\n",
        "\n",
        "            petal_W_versi.append(petal_width_Col[i])\n",
        "            petal_L_versi.append(petal_length_Col[i])\n",
        "            sepal_W_versi.append(sepal_width_Col[i])\n",
        "            sepal_L_versi.append(sepal_length_Col[i])\n",
        "\n",
        "    average_petal_length_V = avg(petal_L_versi)\n",
        "    average_petal_width_V = avg(petal_W_versi)\n",
        "    average_sepal_length_V = avg(sepal_L_versi)\n",
        "    average_sepal_width_V = avg(sepal_W_versi)\n",
        "\n",
        "    average_petal_length_min_V = min(petal_L_versi)\n",
        "    average_petal_width_min_V = min(petal_W_versi)\n",
        "    average_sepal_length_min_V = min(sepal_L_versi)\n",
        "    average_sepal_width_min_V = min(sepal_W_versi)\n",
        "\n",
        "    average_petal_length_max_V = max(petal_L_versi)\n",
        "    average_petal_width_max_V = max(petal_W_versi)\n",
        "    average_sepal_length_max_V = max(sepal_L_versi)\n",
        "    average_sepal_width_max_V = max(sepal_W_versi)\n",
        "\n",
        "    sepal_length_std_V = standard_deviation(sepal_L_versi)\n",
        "    sepal_width_std_V = standard_deviation(sepal_W_versi)\n",
        "    petal_length_std_V = standard_deviation(petal_L_versi)\n",
        "    petal_width_std_V = standard_deviation(petal_W_versi)\n",
        "\n",
        "    average_iris_dictionary_V = [\n",
        "        ['mean', average_sepal_length_V, average_sepal_width_V,\n",
        "         average_petal_length_V, average_petal_width_V],\n",
        "        ['std', sepal_length_std_V, sepal_width_std_V,\n",
        "         petal_length_std_V, petal_width_std_V],\n",
        "        ['min', average_sepal_length_min_V, average_sepal_width_min_V,\n",
        "         average_petal_length_min_V, average_petal_width_min_V],\n",
        "        ['max', average_sepal_length_max_V, average_petal_width_max_V, average_petal_length_max_V, average_petal_width_max_V]]\n",
        "\n",
        "    spaces = ' '*3\n",
        "    header = f\"{'Attributes(cm):':12s}{spaces}{'Sepal Length':12s}{spaces}{'Sepal Width':9s}{spaces}{'Petal Length':12s}{spaces}{'Petal Width':9s}\"\n",
        "    \n",
        "    pretty_print_equal()\n",
        "    print(header)\n",
        "    pretty_print_dash()\n",
        "    print(\"Analytics:\")\n",
        "\n",
        "    for i in range(len(average_iris_dictionary_V)):\n",
        "        attributes_dictionary_V = f\"{average_iris_dictionary_V[i]   [0]:16s}{spaces}{average_iris_dictionary_V[i][1]:^12.2f}   {spaces}{average_iris_dictionary_V[i][2]:^11.2f}{spaces}   {average_iris_dictionary_V[i][3]:^12.2f}{spaces}   {average_iris_dictionary_V[i][4]:^11.2f}\"\n",
        "        print(attributes_dictionary_V)\n",
        "\n",
        "# Virginica chart\n",
        "    print(\"Virginica Chart\")\n",
        "    for i in range(len(data)):\n",
        "        if species_Col[i] == 'virginica':\n",
        "\n",
        "            petal_W_virgin.append(petal_width_Col[i])\n",
        "            petal_L_virgin.append(petal_length_Col[i])\n",
        "            sepal_W_virgin.append(sepal_width_Col[i])\n",
        "            sepal_L_virgin.append(sepal_length_Col[i])\n",
        "\n",
        "    average_petal_length_X = avg(petal_L_virgin)\n",
        "    average_petal_width_X = avg(petal_W_virgin)\n",
        "    average_sepal_length_X = avg(sepal_L_virgin)\n",
        "    average_sepal_width_X = avg(sepal_W_virgin)\n",
        "\n",
        "    average_petal_length_min_X = min(petal_L_virgin)\n",
        "    average_petal_width_min_X = min(petal_W_virgin)\n",
        "    average_sepal_length_min_X = min(sepal_L_virgin)\n",
        "    average_sepal_width_min_X = min(sepal_W_virgin)\n",
        "\n",
        "    average_petal_length_max_X = max(petal_L_virgin)\n",
        "    average_petal_width_max_X = max(petal_W_virgin)\n",
        "    average_sepal_length_max_X = max(sepal_L_virgin)\n",
        "    average_sepal_width_max_X = max(sepal_W_virgin)\n",
        "\n",
        "    sepal_length_std_X = standard_deviation(sepal_L_virgin)\n",
        "    sepal_width_std_X = standard_deviation(sepal_W_virgin)\n",
        "    petal_length_std_X = standard_deviation(petal_L_virgin)\n",
        "    petal_width_std_X = standard_deviation(petal_W_virgin)\n",
        "\n",
        "    average_iris_dictionary_X = [\n",
        "        ['mean', average_sepal_length_X, average_sepal_width_X,\n",
        "         average_petal_length_X, average_petal_width_X],\n",
        "        ['std', sepal_length_std_X, sepal_width_std_X,\n",
        "         petal_length_std_X, petal_width_std_X],\n",
        "        ['min', average_sepal_length_min_X, average_sepal_width_min_X,\n",
        "         average_petal_length_min_X, average_petal_width_min_X],\n",
        "        ['max', average_sepal_length_max_X, average_petal_width_max_X, average_petal_length_max_X, average_petal_width_max_X]]\n",
        "\n",
        "    spaces = ' '*3\n",
        "    header = f\"{'Attributes(cm):':12s}{spaces}{'Sepal Length':12s}{spaces}{'Sepal Width':9s}{spaces}{'Petal Length':12s}{spaces}{'PetalWidth':9s}\"\n",
        "  \n",
        "    pretty_print_equal()\n",
        "    print(header)\n",
        "    pretty_print_dash()\n",
        "    print(\"Analytics:\")\n",
        "    for i in range(len(average_iris_dictionary_X)):\n",
        "        attributes_dictionary_X = f\"{average_iris_dictionary_X[i]   [0]:16s}{spaces}{average_iris_dictionary_X[i][1]:^12.2f}   {spaces}{average_iris_dictionary_X[i][2]:^11.2f}{spaces}   {average_iris_dictionary_X[i][3]:^12.2f}{spaces}   {average_iris_dictionary_X[i][4]:^11.2f}\"\n",
        "        print(attributes_dictionary_X)\n",
        "    chart_choice = input(\"which chart do you want Sepal or Petal (S/P): \")\n",
        "    chart_choice.upper()\n",
        "    if chart_choice == \"S\":\n",
        "        sepal_width_vs_sepal_length(sepal_L_setosa, sepal_W_setosa,\n",
        "                                    sepal_L_versi, sepal_W_versi, sepal_L_virgin, sepal_W_virgin)\n",
        "    elif chart_choice == 'P':\n",
        "        petal_width_vs_petal_length(petal_L_setosa, petal_W_setosa,\n",
        "                                    petal_L_versi, petal_W_versi, petal_L_virgin, petal_W_virgin)\n",
        "\n",
        "    confirmation_input = input(\"Would you like to show another plot?(Y/N)\")\n",
        "    confirmation_input.upper()\n",
        "    if confirmation_input == \"N\":\n",
        "        is_running = False\n",
        "        print(\"Program has stopped.\")\n"
      ],
      "execution_count": 11,
      "outputs": [
        {
          "output_type": "stream",
          "text": [
            "Setosa Chart\n",
            "===================================================================================================\n",
            "Attributes(cm):   Sepal Length   Sepal Width   Petal Length   Petal Width\n",
            "---------------------------------------------------------------------------------------------------\n",
            "Analytics:\n",
            "mean                   5.01             3.42              1.46             0.24    \n",
            "std                    0.20             0.22              0.10             0.06    \n",
            "min                    4.30             2.30              1.00             0.10    \n",
            "max                    5.80             0.60              1.90             0.60    \n",
            "Versicolor Chart\n",
            "===================================================================================================\n",
            "Attributes(cm):   Sepal Length   Sepal Width   Petal Length   Petal Width\n",
            "---------------------------------------------------------------------------------------------------\n",
            "Analytics:\n",
            "mean                   5.94             2.77              4.26             1.33    \n",
            "std                    0.30             0.18              0.27             0.11    \n",
            "min                    4.90             2.00              3.00             1.00    \n",
            "max                    7.00             1.80              5.10             1.80    \n",
            "Virginica Chart\n",
            "===================================================================================================\n",
            "Attributes(cm):   Sepal Length   Sepal Width   Petal Length   PetalWidth\n",
            "---------------------------------------------------------------------------------------------------\n",
            "Analytics:\n",
            "mean                   6.59             2.97              5.55             2.03    \n",
            "std                    0.36             0.18              0.32             0.16    \n",
            "min                    4.90             2.20              4.50             1.40    \n",
            "max                    7.90             2.50              6.90             2.50    \n"
          ],
          "name": "stdout"
        },
        {
          "output_type": "display_data",
          "data": {
            "image/png": "[encoded data removed]",
            "text/plain": [
              "<Figure size 432x288 with 1 Axes>"
            ]
          },
          "metadata": {
            "tags": []
          }
        },
        {
          "output_type": "error",
          "ename": "KeyboardInterrupt",
          "evalue": "ignored",
          "traceback": [
            "\u001b[0;31m---------------------------------------------------------------------------\u001b[0m",
            "\u001b[0;31mKeyboardInterrupt\u001b[0m                         Traceback (most recent call last)",
            "\u001b[0;32m/usr/local/lib/python3.7/dist-packages/ipykernel/kernelbase.py\u001b[0m in \u001b[0;36m_input_request\u001b[0;34m(self, prompt, ident, parent, password)\u001b[0m\n\u001b[1;32m    728\u001b[0m             \u001b[0;32mtry\u001b[0m\u001b[0;34m:\u001b[0m\u001b[0;34m\u001b[0m\u001b[0;34m\u001b[0m\u001b[0m\n\u001b[0;32m--> 729\u001b[0;31m                 \u001b[0mident\u001b[0m\u001b[0;34m,\u001b[0m \u001b[0mreply\u001b[0m \u001b[0;34m=\u001b[0m \u001b[0mself\u001b[0m\u001b[0;34m.\u001b[0m\u001b[0msession\u001b[0m\u001b[0;34m.\u001b[0m\u001b[0mrecv\u001b[0m\u001b[0;34m(\u001b[0m\u001b[0mself\u001b[0m\u001b[0;34m.\u001b[0m\u001b[0mstdin_socket\u001b[0m\u001b[0;34m,\u001b[0m \u001b[0;36m0\u001b[0m\u001b[0;34m)\u001b[0m\u001b[0;34m\u001b[0m\u001b[0;34m\u001b[0m\u001b[0m\n\u001b[0m\u001b[1;32m    730\u001b[0m             \u001b[0;32mexcept\u001b[0m \u001b[0mException\u001b[0m\u001b[0;34m:\u001b[0m\u001b[0;34m\u001b[0m\u001b[0;34m\u001b[0m\u001b[0m\n",
            "\u001b[0;32m/usr/local/lib/python3.7/dist-packages/jupyter_client/session.py\u001b[0m in \u001b[0;36mrecv\u001b[0;34m(self, socket, mode, content, copy)\u001b[0m\n\u001b[1;32m    802\u001b[0m         \u001b[0;32mtry\u001b[0m\u001b[0;34m:\u001b[0m\u001b[0;34m\u001b[0m\u001b[0;34m\u001b[0m\u001b[0m\n\u001b[0;32m--> 803\u001b[0;31m             \u001b[0mmsg_list\u001b[0m \u001b[0;34m=\u001b[0m \u001b[0msocket\u001b[0m\u001b[0;34m.\u001b[0m\u001b[0mrecv_multipart\u001b[0m\u001b[0;34m(\u001b[0m\u001b[0mmode\u001b[0m\u001b[0;34m,\u001b[0m \u001b[0mcopy\u001b[0m\u001b[0;34m=\u001b[0m\u001b[0mcopy\u001b[0m\u001b[0;34m)\u001b[0m\u001b[0;34m\u001b[0m\u001b[0;34m\u001b[0m\u001b[0m\n\u001b[0m\u001b[1;32m    804\u001b[0m         \u001b[0;32mexcept\u001b[0m \u001b[0mzmq\u001b[0m\u001b[0;34m.\u001b[0m\u001b[0mZMQError\u001b[0m \u001b[0;32mas\u001b[0m \u001b[0me\u001b[0m\u001b[0;34m:\u001b[0m\u001b[0;34m\u001b[0m\u001b[0;34m\u001b[0m\u001b[0m\n",
            "\u001b[0;32m/usr/local/lib/python3.7/dist-packages/zmq/sugar/socket.py\u001b[0m in \u001b[0;36mrecv_multipart\u001b[0;34m(self, flags, copy, track)\u001b[0m\n\u001b[1;32m    582\u001b[0m         \"\"\"\n\u001b[0;32m--> 583\u001b[0;31m         \u001b[0mparts\u001b[0m \u001b[0;34m=\u001b[0m \u001b[0;34m[\u001b[0m\u001b[0mself\u001b[0m\u001b[0;34m.\u001b[0m\u001b[0mrecv\u001b[0m\u001b[0;34m(\u001b[0m\u001b[0mflags\u001b[0m\u001b[0;34m,\u001b[0m \u001b[0mcopy\u001b[0m\u001b[0;34m=\u001b[0m\u001b[0mcopy\u001b[0m\u001b[0;34m,\u001b[0m \u001b[0mtrack\u001b[0m\u001b[0;34m=\u001b[0m\u001b[0mtrack\u001b[0m\u001b[0;34m)\u001b[0m\u001b[0;34m]\u001b[0m\u001b[0;34m\u001b[0m\u001b[0;34m\u001b[0m\u001b[0m\n\u001b[0m\u001b[1;32m    584\u001b[0m         \u001b[0;31m# have first part already, only loop while more to receive\u001b[0m\u001b[0;34m\u001b[0m\u001b[0;34m\u001b[0m\u001b[0;34m\u001b[0m\u001b[0m\n",
            "\u001b[0;32mzmq/backend/cython/socket.pyx\u001b[0m in \u001b[0;36mzmq.backend.cython.socket.Socket.recv\u001b[0;34m()\u001b[0m\n",
            "\u001b[0;32mzmq/backend/cython/socket.pyx\u001b[0m in \u001b[0;36mzmq.backend.cython.socket.Socket.recv\u001b[0;34m()\u001b[0m\n",
            "\u001b[0;32mzmq/backend/cython/socket.pyx\u001b[0m in \u001b[0;36mzmq.backend.cython.socket._recv_copy\u001b[0;34m()\u001b[0m\n",
            "\u001b[0;32m/usr/local/lib/python3.7/dist-packages/zmq/backend/cython/checkrc.pxd\u001b[0m in \u001b[0;36mzmq.backend.cython.checkrc._check_rc\u001b[0;34m()\u001b[0m\n",
            "\u001b[0;31mKeyboardInterrupt\u001b[0m: ",
            "\nDuring handling of the above exception, another exception occurred:\n",
            "\u001b[0;31mKeyboardInterrupt\u001b[0m                         Traceback (most recent call last)",
            "\u001b[0;32m<ipython-input-11-da1127e1d1e6>\u001b[0m in \u001b[0;36m<module>\u001b[0;34m()\u001b[0m\n\u001b[1;32m    197\u001b[0m                                     petal_L_versi, petal_W_versi, petal_L_virgin, petal_W_virgin)\n\u001b[1;32m    198\u001b[0m \u001b[0;34m\u001b[0m\u001b[0m\n\u001b[0;32m--> 199\u001b[0;31m     \u001b[0mconfirmation_input\u001b[0m \u001b[0;34m=\u001b[0m \u001b[0minput\u001b[0m\u001b[0;34m(\u001b[0m\u001b[0;34m\"Would you like to show another plot?(Y/N)\"\u001b[0m\u001b[0;34m)\u001b[0m\u001b[0;34m\u001b[0m\u001b[0;34m\u001b[0m\u001b[0m\n\u001b[0m\u001b[1;32m    200\u001b[0m     \u001b[0mconfirmation_input\u001b[0m\u001b[0;34m.\u001b[0m\u001b[0mupper\u001b[0m\u001b[0;34m(\u001b[0m\u001b[0;34m)\u001b[0m\u001b[0;34m\u001b[0m\u001b[0;34m\u001b[0m\u001b[0m\n\u001b[1;32m    201\u001b[0m     \u001b[0;32mif\u001b[0m \u001b[0mconfirmation_input\u001b[0m \u001b[0;34m==\u001b[0m \u001b[0;34m\"N\"\u001b[0m\u001b[0;34m:\u001b[0m\u001b[0;34m\u001b[0m\u001b[0;34m\u001b[0m\u001b[0m\n",
            "\u001b[0;32m/usr/local/lib/python3.7/dist-packages/ipykernel/kernelbase.py\u001b[0m in \u001b[0;36mraw_input\u001b[0;34m(self, prompt)\u001b[0m\n\u001b[1;32m    702\u001b[0m             \u001b[0mself\u001b[0m\u001b[0;34m.\u001b[0m\u001b[0m_parent_ident\u001b[0m\u001b[0;34m,\u001b[0m\u001b[0;34m\u001b[0m\u001b[0;34m\u001b[0m\u001b[0m\n\u001b[1;32m    703\u001b[0m             \u001b[0mself\u001b[0m\u001b[0;34m.\u001b[0m\u001b[0m_parent_header\u001b[0m\u001b[0;34m,\u001b[0m\u001b[0;34m\u001b[0m\u001b[0;34m\u001b[0m\u001b[0m\n\u001b[0;32m--> 704\u001b[0;31m             \u001b[0mpassword\u001b[0m\u001b[0;34m=\u001b[0m\u001b[0;32mFalse\u001b[0m\u001b[0;34m,\u001b[0m\u001b[0;34m\u001b[0m\u001b[0;34m\u001b[0m\u001b[0m\n\u001b[0m\u001b[1;32m    705\u001b[0m         )\n\u001b[1;32m    706\u001b[0m \u001b[0;34m\u001b[0m\u001b[0m\n",
            "\u001b[0;32m/usr/local/lib/python3.7/dist-packages/ipykernel/kernelbase.py\u001b[0m in \u001b[0;36m_input_request\u001b[0;34m(self, prompt, ident, parent, password)\u001b[0m\n\u001b[1;32m    732\u001b[0m             \u001b[0;32mexcept\u001b[0m \u001b[0mKeyboardInterrupt\u001b[0m\u001b[0;34m:\u001b[0m\u001b[0;34m\u001b[0m\u001b[0;34m\u001b[0m\u001b[0m\n\u001b[1;32m    733\u001b[0m                 \u001b[0;31m# re-raise KeyboardInterrupt, to truncate traceback\u001b[0m\u001b[0;34m\u001b[0m\u001b[0;34m\u001b[0m\u001b[0;34m\u001b[0m\u001b[0m\n\u001b[0;32m--> 734\u001b[0;31m                 \u001b[0;32mraise\u001b[0m \u001b[0mKeyboardInterrupt\u001b[0m\u001b[0;34m\u001b[0m\u001b[0;34m\u001b[0m\u001b[0m\n\u001b[0m\u001b[1;32m    735\u001b[0m             \u001b[0;32melse\u001b[0m\u001b[0;34m:\u001b[0m\u001b[0;34m\u001b[0m\u001b[0;34m\u001b[0m\u001b[0m\n\u001b[1;32m    736\u001b[0m                 \u001b[0;32mbreak\u001b[0m\u001b[0;34m\u001b[0m\u001b[0;34m\u001b[0m\u001b[0m\n",
            "\u001b[0;31mKeyboardInterrupt\u001b[0m: "
          ]
        }
      ]
    },
    {
      "cell_type": "code",
      "metadata": {
        "colab": {
          "base_uri": "https://localhost:8080/"
        },
        "id": "Qn6tAR2L0l3O",
        "outputId": "5d468d41-14aa-47aa-e51c-df7fe4d7c269"
      },
      "source": [
        "from google.colab import drive\n",
        "drive.mount('/content/gdrive')"
      ],
      "execution_count": null,
      "outputs": [
        {
          "output_type": "stream",
          "text": [
            "Mounted at /content/gdrive\n"
          ],
          "name": "stdout"
        }
      ]
    },
    {
      "cell_type": "code",
      "metadata": {
        "id": "vqRB1_-y1hKx"
      },
      "source": [
        "import pandas as pd\n",
        "pd.read_csv('/content/gdrive/My Drive/test/iris.csv')"
      ],
      "execution_count": null,
      "outputs": []
    },
    {
      "cell_type": "code",
      "metadata": {
        "id": "N8sOqF7J16PD"
      },
      "source": [
        "from google.colab import files\n",
        "uploaded = files.upload()"
      ],
      "execution_count": null,
      "outputs": []
    },
    {
      "cell_type": "code",
      "metadata": {
        "id": "GqMdozDD2OlV"
      },
      "source": [
        "pd.read_csv(\"iris.csv\")"
      ],
      "execution_count": null,
      "outputs": []
    }
  ]
}